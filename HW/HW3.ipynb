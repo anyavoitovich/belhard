{
 "cells": [
  {
   "cell_type": "code",
   "execution_count": 3,
   "id": "initial_id",
   "metadata": {
    "collapsed": true,
    "ExecuteTime": {
     "end_time": "2023-12-11T20:29:10.712187Z",
     "start_time": "2023-12-11T20:29:10.689921Z"
    }
   },
   "outputs": [],
   "source": [
    "class Car:\n",
    "    def __init__(self, brand, year):\n",
    "        self.brand = brand\n",
    "        self.year = year\n",
    "        self.__engine_type = None\n",
    "\n",
    "    @property\n",
    "    def engine_type(self):\n",
    "        return self.__engine_type\n",
    "\n",
    "    @engine_type.setter\n",
    "    def engine_type(self, new_engine_type):\n",
    "        if new_engine_type.lower() in [\"electric\", \"gasoline\", \"diesel\"]:\n",
    "            self.__engine_type = new_engine_type.lower()\n",
    "        else:\n",
    "            raise ValueError(\"Invalid engine type\")"
   ]
  },
  {
   "cell_type": "code",
   "execution_count": 7,
   "outputs": [
    {
     "name": "stdout",
     "output_type": "stream",
     "text": [
      "электро автомобиль:Tesla, 2023, 75 kWh, electric\n"
     ]
    }
   ],
   "source": [
    "class ElectricCar(Car):\n",
    "    def __init__(self, brand, year, battery_size):\n",
    "        super().__init__(brand, year)\n",
    "        self.battery_size = battery_size\n",
    "    def display_info(self):\n",
    "        return f\"электро автомобиль:{self.brand}, {self.year}, {self.battery_size}, {self.engine_type}\"\n",
    "\n",
    "electric_car = ElectricCar(\"Tesla\", \"2023\", \"75 kWh\")\n",
    "electric_car.engine_type = \"Electric\"\n",
    "\n",
    "print(electric_car.display_info())\n",
    "\n",
    "        \n",
    "    \n"
   ],
   "metadata": {
    "collapsed": false,
    "ExecuteTime": {
     "end_time": "2023-12-11T20:30:47.037743Z",
     "start_time": "2023-12-11T20:30:47.013498Z"
    }
   },
   "id": "f041c306a4d93e37"
  },
  {
   "cell_type": "code",
   "execution_count": null,
   "outputs": [],
   "source": [],
   "metadata": {
    "collapsed": false
   },
   "id": "256f55926e680cd7"
  }
 ],
 "metadata": {
  "kernelspec": {
   "display_name": "Python 3",
   "language": "python",
   "name": "python3"
  },
  "language_info": {
   "codemirror_mode": {
    "name": "ipython",
    "version": 2
   },
   "file_extension": ".py",
   "mimetype": "text/x-python",
   "name": "python",
   "nbconvert_exporter": "python",
   "pygments_lexer": "ipython2",
   "version": "2.7.6"
  }
 },
 "nbformat": 4,
 "nbformat_minor": 5
}
