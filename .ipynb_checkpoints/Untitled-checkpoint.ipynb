{
 "cells": [
  {
   "cell_type": "code",
   "execution_count": null,
   "id": "61bcacce-0728-4d20-8822-7a3991a75643",
   "metadata": {},
   "outputs": [],
   "source": [
    "import pandas as pd\n",
    "import numpy as np\n",
    "import seaborn as sns\n",
    "import matplotlib.pyplot as plt\n",
    "from sklearn.datasets import load_wine\n",
    "from sklearn.model_selection import train_test_split\n",
    "from sklearn.preprocessing import StandardScaler\n",
    "from sklearn.linear_model import LogisticRegression\n",
    "from sklearn.ensemble import RandomForestClassifier\n",
    "from sklearn.svm import SVR\n",
    "from sklearn.metrics import classification_report, confusion_matrix, accuracy_score\n",
    "from sklearn.metrics import mean_squared_error, r2_score\n",
    "\n",
    "#загрузка и подготовка данных \n",
    "file_path = \"archive/spotify_songs.csv\"\n",
    "df = pd.read_csv(file_path)\n",
    "df.isnull().sum()\n",
    "df.dropna(inplace=True)\n",
    "df.isnull().sum()\n",
    "#разделение данных на признаки и целевую переменную\n",
    "features = df[['danceability', 'energy', 'valence', 'loudness','speechiness','acousticness','instrumentalness','liveness', 'tempo', 'duration_ms']]\n",
    "target = df['track_popularity']\n",
    "\n",
    "#разделение на обучающую и тестовую выборки\n",
    "X_train, X_test, y_train, y_test = train_test_split(features, target, test_size=0.3, random_state=42)\n",
    "\n",
    "# Стандартизация данных\n",
    "scaler = StandardScaler()\n",
    "X_train_scaled = scaler.fit_transform(X_train)\n",
    "X_test_scaled = scaler.transform(X_test)\n",
    "\n",
    "# Создание и обучение моделей\n",
    "model = SVR()\n",
    "model.fit(X_train_scaled, y_train)\n",
    "# Предсказание на тестовых данных\n",
    "predictions = model.predict(X_test_scaled)\n",
    "# Оценка моделей\n",
    "accuracy_svm = mean_squared_error(y_test, predictions)\n",
    "report_svm = r2_score(y_test, predictions)\n",
    "\n",
    "# # Оценка моделей\n",
    "# # accuracy_log_reg = accuracy_score(y_test, y_pred_log_reg)\n",
    "# accuracy_lr = mean_squared_error(y_test, predictions)\n",
    "# # report_log_reg = classification_report(y_test, y_pred_log_reg)\n",
    "# report_lr = r2_score(y_test, predictions)\n",
    "accuracy_svm, report_svm\n",
    "\n",
    "# print(\"Информация о данных:\")\n",
    "# print(df.describe())\n",
    "plt.scatter(y_test, predictions)\n",
    "plt.xlabel(\"Фактическая популярность\")\n",
    "plt.ylabel(\"Предсказанная популярность\")\n",
    "plt.title(\"Фактическая популярность vs Предсказанная популярность\")\n",
    "plt.show()"
   ]
  },
  {
   "cell_type": "code",
   "execution_count": null,
   "id": "38d00e55-615b-4b0b-8a2c-de19d3594581",
   "metadata": {},
   "outputs": [],
   "source": []
  },
  {
   "cell_type": "code",
   "execution_count": null,
   "id": "730d0709-0e0e-4542-bf27-fb78f8973cbb",
   "metadata": {},
   "outputs": [],
   "source": []
  },
  {
   "cell_type": "code",
   "execution_count": null,
   "id": "c0c4cb05-1652-42c9-a10b-f570522edd11",
   "metadata": {},
   "outputs": [],
   "source": []
  }
 ],
 "metadata": {
  "kernelspec": {
   "display_name": "Python 3 (ipykernel)",
   "language": "python",
   "name": "python3"
  },
  "language_info": {
   "codemirror_mode": {
    "name": "ipython",
    "version": 3
   },
   "file_extension": ".py",
   "mimetype": "text/x-python",
   "name": "python",
   "nbconvert_exporter": "python",
   "pygments_lexer": "ipython3",
   "version": "3.11.4"
  }
 },
 "nbformat": 4,
 "nbformat_minor": 5
}
