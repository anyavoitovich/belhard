{
 "cells": [
  {
   "cell_type": "code",
   "execution_count": 37,
   "id": "61bcacce-0728-4d20-8822-7a3991a75643",
   "metadata": {
    "ExecuteTime": {
     "end_time": "2023-12-05T16:29:42.653323Z",
     "start_time": "2023-12-05T16:29:42.619973Z"
    }
   },
   "outputs": [
    {
     "name": "stdout",
     "output_type": "stream",
     "text": [
      "Mean Squared Error: 408439297.4476759\n",
      "R^2 Score: 0.7070917696781361\n"
     ]
    }
   ],
   "source": [
    "import numpy as np\n",
    "import pandas as pd\n",
    "from sklearn.model_selection import train_test_split\n",
    "from sklearn.linear_model import LinearRegression\n",
    "from sklearn.metrics import mean_squared_error, r2_score\n",
    "from sklearn.preprocessing import StandardScaler\n",
    "from sklearn.impute import SimpleImputer\n",
    "\n",
    "# Загрузка данных\n",
    "df = pd.read_csv(\"EV_cars.csv\")\n",
    "df = df.dropna()\n",
    "# Подготовка данных\n",
    "# В данном случае предполагается, что данные уже предобработаны и пропуски заполнены, а категориальные признаки закодированы.\n",
    "\n",
    "# Выбор признаков\n",
    "features = df[['acceleration..0.100.', 'Top_speed', 'Range', 'Fast_charge', 'Efficiency', 'Battery']]\n",
    "\n",
    "# Целевая переменная\n",
    "target = df['Price.DE.']\n",
    "\n",
    "# Разделение данных\n",
    "X_train, X_test, y_train, y_test = train_test_split(features, target, test_size=0.3, random_state=42)\n",
    "\n",
    "# Стандартизация данных\n",
    "scaler = StandardScaler()\n",
    "X_train_scaled = scaler.fit_transform(X_train)\n",
    "X_test_scaled = scaler.transform(X_test)\n",
    "\n",
    "# Обучение модели\n",
    "model = LinearRegression()\n",
    "model.fit(X_train_scaled, y_train)\n",
    "\n",
    "# Предсказание на тестовых данных\n",
    "predictions = model.predict(X_test_scaled)\n",
    "\n",
    "# Оценка модели\n",
    "mse = mean_squared_error(y_test, predictions)\n",
    "r2 = r2_score(y_test, predictions)\n",
    "\n",
    "print(\"Mean Squared Error:\", mse)\n",
    "print(\"R^2 Score:\", r2)\n",
    "\n"
   ]
  },
  {
   "cell_type": "code",
   "execution_count": null,
   "id": "38d00e55-615b-4b0b-8a2c-de19d3594581",
   "metadata": {},
   "outputs": [],
   "source": []
  },
  {
   "cell_type": "code",
   "execution_count": null,
   "id": "730d0709-0e0e-4542-bf27-fb78f8973cbb",
   "metadata": {},
   "outputs": [],
   "source": []
  },
  {
   "cell_type": "code",
   "execution_count": null,
   "id": "c0c4cb05-1652-42c9-a10b-f570522edd11",
   "metadata": {},
   "outputs": [],
   "source": []
  }
 ],
 "metadata": {
  "kernelspec": {
   "display_name": "Python 3 (ipykernel)",
   "language": "python",
   "name": "python3"
  },
  "language_info": {
   "codemirror_mode": {
    "name": "ipython",
    "version": 3
   },
   "file_extension": ".py",
   "mimetype": "text/x-python",
   "name": "python",
   "nbconvert_exporter": "python",
   "pygments_lexer": "ipython3",
   "version": "3.11.4"
  }
 },
 "nbformat": 4,
 "nbformat_minor": 5
}
