{
 "cells": [
  {
   "cell_type": "code",
   "execution_count": 16,
   "id": "4040aad8-d27d-43fc-b7ca-22072c521e1c",
   "metadata": {},
   "outputs": [
    {
     "name": "stdout",
     "output_type": "stream",
     "text": [
      "значение второго элемента:  9\n"
     ]
    }
   ],
   "source": [
    "numbers = (12.45, 9, 13.7, 84)\n",
    "second_number = numbers[1]\n",
    "print('значение второго элемента: ', second_number)"
   ]
  },
  {
   "cell_type": "code",
   "execution_count": 4,
   "id": "490de977-608f-4809-ab47-476722bff053",
   "metadata": {},
   "outputs": [
    {
     "name": "stdin",
     "output_type": "stream",
     "text": [
      "Введите список целых чисел:  56 47 28 про 87\n"
     ]
    },
    {
     "name": "stdout",
     "output_type": "stream",
     "text": [
      "Ошибка: 'про' не является целым числом\n",
      "Список целых чисел: [56, 47, 28, 87]\n",
      "Сложнасть алгоритма O(n)\n"
     ]
    }
   ],
   "source": [
    "input_numbers = input(\"Введите список целых чисел: \")\n",
    "list = input_numbers.split()\n",
    "number_list = []\n",
    "for x in list:\n",
    "    try:\n",
    "        number = int(x)\n",
    "        number_list.append(number)\n",
    "    except:\n",
    "        print(f\"Ошибка: '{x}' не является целым числом\")\n",
    "print(\"Список целых чисел:\", number_list)\n",
    "print(\"Сложнасть алгоритма O(n)\")"
   ]
  },
  {
   "cell_type": "code",
   "execution_count": null,
   "id": "bf613b18-7caa-4bad-8462-b57f0e90781b",
   "metadata": {},
   "outputs": [],
   "source": []
  }
 ],
 "metadata": {
  "kernelspec": {
   "display_name": "Python 3 (ipykernel)",
   "language": "python",
   "name": "python3"
  },
  "language_info": {
   "codemirror_mode": {
    "name": "ipython",
    "version": 3
   },
   "file_extension": ".py",
   "mimetype": "text/x-python",
   "name": "python",
   "nbconvert_exporter": "python",
   "pygments_lexer": "ipython3",
   "version": "3.11.4"
  }
 },
 "nbformat": 4,
 "nbformat_minor": 5
}
